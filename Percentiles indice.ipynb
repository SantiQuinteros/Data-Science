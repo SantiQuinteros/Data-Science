{
 "cells": [
  {
   "cell_type": "code",
   "execution_count": 71,
   "metadata": {},
   "outputs": [],
   "source": [
    "import pandas as pd\n",
    "from sklearn.datasets import load_iris\n",
    "import numpy as np"
   ]
  },
  {
   "cell_type": "code",
   "execution_count": 27,
   "metadata": {},
   "outputs": [],
   "source": [
    "iris = load_iris()\n",
    "df = pd.DataFrame(data=iris.data, columns=iris.feature_names)"
   ]
  },
  {
   "cell_type": "code",
   "execution_count": 28,
   "metadata": {},
   "outputs": [],
   "source": [
    "# Ordenar por una columna #\n",
    "df = df.sort_values('sepal length (cm)').reset_index(drop=True)"
   ]
  },
  {
   "cell_type": "code",
   "execution_count": 29,
   "metadata": {},
   "outputs": [],
   "source": [
    "# Generar una variable que sea el acumulado de una columna #\n",
    "\n",
    "acumulado = 0\n",
    "acumulados = []\n",
    "for n in df['sepal length (cm)']:\n",
    "    acumulado = acumulado + n\n",
    "    acumulados.append(acumulado)\n",
    "\n",
    "df['sepal length (cm) acumulado'] = acumulados\n"
   ]
  },
  {
   "cell_type": "code",
   "execution_count": 38,
   "metadata": {},
   "outputs": [],
   "source": [
    "# Generar una variable que sea el porcentaje acumulado de una columna #\n",
    "\n",
    "porcentaje_acumulado = []\n",
    "porcentajes_acumulados = []\n",
    "\n",
    "for n in df['sepal length (cm) acumulado']:\n",
    "    porcentaje_acumulado = n/(sum(df['sepal length (cm)']))\n",
    "    porcentajes_acumulados.append(porcentaje_acumulado)\n",
    "df['% sepal length (cm) acumulado'] = porcentajes_acumulados"
   ]
  },
  {
   "cell_type": "code",
   "execution_count": 60,
   "metadata": {},
   "outputs": [],
   "source": [
    "# Generar una variable que sea el porcentaje acumulado del indece #\n",
    "\n",
    "indice_acumulado = []\n",
    "indices_acumulado = []\n",
    "\n",
    "for n in pd.Series(df.index.values):\n",
    "    indice_acumulado = n/max(df.index)\n",
    "    indices_acumulado.append(indice_acumulado)\n",
    "df['% Indice acumulado'] = indices_acumulado\n"
   ]
  },
  {
   "cell_type": "code",
   "execution_count": 80,
   "metadata": {},
   "outputs": [],
   "source": [
    "# Genearar nueva columna con la etiqueda del umbral #\n",
    "\n",
    "# Definir la función para aplicar la condición if #\n",
    "\n",
    "def asignar_etiqueta(valor):\n",
    "    if valor < 4:\n",
    "        return 'Menor 4'\n",
    "    elif valor < 5:\n",
    "        return 'Entre 4 y 5'\n",
    "    elif valor < 6:\n",
    "        return 'Entre 5 y 6'\n",
    "    elif valor < 7:\n",
    "        return 'Entre 6 y 7'\n",
    "    else:\n",
    "        return 'Mayor 7'\n",
    "\n",
    "df['Umbral sepal length (cm)'] = df['sepal length (cm)'].apply(asignar_etiqueta)\n"
   ]
  },
  {
   "cell_type": "code",
   "execution_count": 81,
   "metadata": {},
   "outputs": [
    {
     "data": {
      "text/html": [
       "<div>\n",
       "<style scoped>\n",
       "    .dataframe tbody tr th:only-of-type {\n",
       "        vertical-align: middle;\n",
       "    }\n",
       "\n",
       "    .dataframe tbody tr th {\n",
       "        vertical-align: top;\n",
       "    }\n",
       "\n",
       "    .dataframe thead th {\n",
       "        text-align: right;\n",
       "    }\n",
       "</style>\n",
       "<table border=\"1\" class=\"dataframe\">\n",
       "  <thead>\n",
       "    <tr style=\"text-align: right;\">\n",
       "      <th></th>\n",
       "      <th>Percentil</th>\n",
       "      <th>% Indice acumulado</th>\n",
       "      <th>sepal length (cm)</th>\n",
       "      <th>sepal length (cm) acumulado</th>\n",
       "      <th>% sepal length (cm) acumulado</th>\n",
       "    </tr>\n",
       "  </thead>\n",
       "  <tbody>\n",
       "    <tr>\n",
       "      <th>37</th>\n",
       "      <td>0.25</td>\n",
       "      <td>0.248322</td>\n",
       "      <td>5.1</td>\n",
       "      <td>183.8</td>\n",
       "      <td>0.209698</td>\n",
       "    </tr>\n",
       "    <tr>\n",
       "      <th>74</th>\n",
       "      <td>0.50</td>\n",
       "      <td>0.496644</td>\n",
       "      <td>5.8</td>\n",
       "      <td>386.9</td>\n",
       "      <td>0.441415</td>\n",
       "    </tr>\n",
       "    <tr>\n",
       "      <th>111</th>\n",
       "      <td>0.75</td>\n",
       "      <td>0.744966</td>\n",
       "      <td>6.4</td>\n",
       "      <td>613.3</td>\n",
       "      <td>0.699715</td>\n",
       "    </tr>\n",
       "    <tr>\n",
       "      <th>149</th>\n",
       "      <td>1.00</td>\n",
       "      <td>1.000000</td>\n",
       "      <td>7.9</td>\n",
       "      <td>876.5</td>\n",
       "      <td>1.000000</td>\n",
       "    </tr>\n",
       "  </tbody>\n",
       "</table>\n",
       "</div>"
      ],
      "text/plain": [
       "     Percentil  % Indice acumulado  sepal length (cm)  \\\n",
       "37        0.25            0.248322                5.1   \n",
       "74        0.50            0.496644                5.8   \n",
       "111       0.75            0.744966                6.4   \n",
       "149       1.00            1.000000                7.9   \n",
       "\n",
       "     sepal length (cm) acumulado  % sepal length (cm) acumulado  \n",
       "37                         183.8                       0.209698  \n",
       "74                         386.9                       0.441415  \n",
       "111                        613.3                       0.699715  \n",
       "149                        876.5                       1.000000  "
      ]
     },
     "execution_count": 81,
     "metadata": {},
     "output_type": "execute_result"
    }
   ],
   "source": [
    "# Generar tabla con percentiles #\n",
    "\n",
    "percentiles = [0.25, 0.50, 0.75, 1]\n",
    "filas_percentiles = []\n",
    "\n",
    "for n in percentiles:\n",
    "    valor_percentil = int(max(df.index)*n)\n",
    "    filas_percentil = df.loc[df.index == valor_percentil]\n",
    "    filas_percentiles.append(filas_percentil)\n",
    "\n",
    "df_percentiles = pd.concat(filas_percentiles)\n",
    "df_percentiles['Percentil'] = percentiles\n",
    "df_percentiles = df_percentiles[['Percentil', '% Indice acumulado', 'sepal length (cm)', 'sepal length (cm) acumulado', '% sepal length (cm) acumulado']]\n",
    "df_percentiles"
   ]
  },
  {
   "cell_type": "code",
   "execution_count": 93,
   "metadata": {},
   "outputs": [
    {
     "name": "stderr",
     "output_type": "stream",
     "text": [
      "C:\\Users\\Santiago\\AppData\\Local\\Temp\\ipykernel_10428\\2164419736.py:14: FutureWarning: The frame.append method is deprecated and will be removed from pandas in a future version. Use pandas.concat instead.\n",
      "  Umbrales_sepal = Umbrales_sepal.append(nueva_fila, ignore_index=True)\n"
     ]
    },
    {
     "data": {
      "text/html": [
       "<div>\n",
       "<style scoped>\n",
       "    .dataframe tbody tr th:only-of-type {\n",
       "        vertical-align: middle;\n",
       "    }\n",
       "\n",
       "    .dataframe tbody tr th {\n",
       "        vertical-align: top;\n",
       "    }\n",
       "\n",
       "    .dataframe thead th {\n",
       "        text-align: right;\n",
       "    }\n",
       "</style>\n",
       "<table border=\"1\" class=\"dataframe\">\n",
       "  <thead>\n",
       "    <tr style=\"text-align: right;\">\n",
       "      <th></th>\n",
       "      <th>Umbral sepal length (cm)</th>\n",
       "      <th>Cantidad_observaciones</th>\n",
       "      <th>Suma_sepal</th>\n",
       "    </tr>\n",
       "  </thead>\n",
       "  <tbody>\n",
       "    <tr>\n",
       "      <th>0</th>\n",
       "      <td>Entre 4 y 5</td>\n",
       "      <td>22</td>\n",
       "      <td>103.2</td>\n",
       "    </tr>\n",
       "    <tr>\n",
       "      <th>1</th>\n",
       "      <td>Entre 5 y 6</td>\n",
       "      <td>61</td>\n",
       "      <td>330.4</td>\n",
       "    </tr>\n",
       "    <tr>\n",
       "      <th>2</th>\n",
       "      <td>Entre 6 y 7</td>\n",
       "      <td>54</td>\n",
       "      <td>346.2</td>\n",
       "    </tr>\n",
       "    <tr>\n",
       "      <th>3</th>\n",
       "      <td>Mayor 7</td>\n",
       "      <td>13</td>\n",
       "      <td>96.7</td>\n",
       "    </tr>\n",
       "    <tr>\n",
       "      <th>4</th>\n",
       "      <td>Total</td>\n",
       "      <td>150</td>\n",
       "      <td>876.5</td>\n",
       "    </tr>\n",
       "  </tbody>\n",
       "</table>\n",
       "</div>"
      ],
      "text/plain": [
       "  Umbral sepal length (cm)  Cantidad_observaciones  Suma_sepal\n",
       "0              Entre 4 y 5                      22       103.2\n",
       "1              Entre 5 y 6                      61       330.4\n",
       "2              Entre 6 y 7                      54       346.2\n",
       "3                  Mayor 7                      13        96.7\n",
       "4                    Total                     150       876.5"
      ]
     },
     "execution_count": 93,
     "metadata": {},
     "output_type": "execute_result"
    }
   ],
   "source": [
    "# Generar una tabla con los valores de los umbrales #\n",
    "\n",
    "Umbrales_sepal = pd.DataFrame(df.groupby('Umbral sepal length (cm)').agg(Cantidad_observaciones = ('Umbral sepal length (cm)', 'count'), Suma_sepal = ('sepal length (cm)', 'sum'))).reset_index()\n",
    "\n",
    "\n",
    "# Calcular la suma de todas las filas y crear una nueva fila con la suma\n",
    "\n",
    "suma_total = Umbrales_sepal.sum()\n",
    "nueva_fila = pd.DataFrame([suma_total], columns=Umbrales_sepal.columns)\n",
    "nueva_fila.iloc[0, 0] = 'Total'\n",
    "\n",
    "# Agregar la nueva fila al DataFrame\n",
    "\n",
    "Umbrales_sepal = Umbrales_sepal.append(nueva_fila, ignore_index=True)\n",
    "\n",
    "Umbrales_sepal"
   ]
  },
  {
   "cell_type": "code",
   "execution_count": 119,
   "metadata": {},
   "outputs": [
    {
     "data": {
      "image/png": "[encoded data removed]",
      "text/plain": [
       "<Figure size 576x432 with 1 Axes>"
      ]
     },
     "metadata": {},
     "output_type": "display_data"
    }
   ],
   "source": [
    "# Grafico de torta #\n",
    "\n",
    "import matplotlib.pyplot as plt\n",
    "\n",
    "# Datos para el gráfico de torta\n",
    "valores = Umbrales_sepal[Umbrales_sepal['Umbral sepal length (cm)'] != 'Total']['Suma_sepal']\n",
    "etiquetas = Umbrales_sepal[Umbrales_sepal['Umbral sepal length (cm)'] != 'Total']['Umbral sepal length (cm)']\n",
    "colores = ['green', 'blue', 'orange', 'red'] \n",
    "\n",
    "# Configuración del gráfico de torta\n",
    "fig, ax = plt.subplots(figsize=(8, 6))  # Tamaño del gráfico en pulgadas\n",
    "ax.pie(valores, labels=etiquetas, autopct='%1.1f%%', startangle=90, colors=colores, textprops={'fontsize': 14})\n",
    "\n",
    "# Aspecto del gráfico\n",
    "ax.axis('equal')  # Para que el gráfico sea un círculo en lugar de una elipse\n",
    "\n",
    "# Título del gráfico\n",
    "ax.set_title('Sepal', fontsize=20)  # Tamaño del título\n",
    "\n",
    "# Guardar el gráfico en una imagen\n",
    "fig.savefig('C:\\\\Users\\\\Santiago\\\\OneDrive\\\\Escritorio\\\\Python\\\\grafico.png')"
   ]
  },
  {
   "cell_type": "code",
   "execution_count": 123,
   "metadata": {},
   "outputs": [],
   "source": [
    "# Crear un excel y pegar cada tabla en una hoja diferente #\n",
    "\n",
    "from openpyxl import Workbook\n",
    "from openpyxl.utils.dataframe import dataframe_to_rows\n",
    "from openpyxl.drawing.image import Image\n",
    "\n",
    "# Crear un nuevo libro de Excel\n",
    "wb = Workbook()\n",
    "\n",
    "# Crear una hoja para cada tabla y pegar los datos\n",
    "ws1 = wb.create_sheet(title='Sepal')\n",
    "for row in dataframe_to_rows(df, index=False, header=True):\n",
    "    ws1.append(row)\n",
    "\n",
    "ws2 = wb.create_sheet(title='Percentiles')\n",
    "for row in dataframe_to_rows(df_percentiles, index=False, header=True):\n",
    "    ws2.append(row)\n",
    "\n",
    "ws3 = wb.create_sheet(title='Umbrales')\n",
    "for row in dataframe_to_rows(Umbrales_sepal, index=False, header=True):\n",
    "    ws3.append(row)\n",
    "\n",
    "img = Image('grafico.png')\n",
    "ws3.add_image(img, 'G1')  # Utilizar ws3 en lugar de ws_umbrales\n",
    "\n",
    "# Eliminar la hoja por defecto \"Sheet\"\n",
    "del wb['Sheet']\n",
    "\n",
    "# Guardar el archivo de Excel\n",
    "wb.save('C:\\\\Users\\\\Santiago\\\\OneDrive\\\\Escritorio\\\\Python\\\\Sepal.xlsx')\n"
   ]
  },
  {
   "cell_type": "code",
   "execution_count": null,
   "metadata": {},
   "outputs": [],
   "source": []
  },
  {
   "cell_type": "code",
   "execution_count": 101,
   "metadata": {},
   "outputs": [
    {
     "ename": "AttributeError",
     "evalue": "'BarChart' object has no attribute 'to_sheet'",
     "output_type": "error",
     "traceback": [
      "\u001b[1;31m---------------------------------------------------------------------------\u001b[0m",
      "\u001b[1;31mAttributeError\u001b[0m                            Traceback (most recent call last)",
      "\u001b[1;32mc:\\Users\\Santiago\\OneDrive\\Escritorio\\Python\\Percentiles indice.ipynb Celda 12\u001b[0m in \u001b[0;36m<cell line: 41>\u001b[1;34m()\u001b[0m\n\u001b[0;32m     <a href='vscode-notebook-cell:/c%3A/Users/Santiago/OneDrive/Escritorio/Python/Percentiles%20indice.ipynb#X32sZmlsZQ%3D%3D?line=38'>39</a>\u001b[0m grafico\u001b[39m.\u001b[39madd_data(datos_grafico, titles_from_data\u001b[39m=\u001b[39m\u001b[39mTrue\u001b[39;00m)\n\u001b[0;32m     <a href='vscode-notebook-cell:/c%3A/Users/Santiago/OneDrive/Escritorio/Python/Percentiles%20indice.ipynb#X32sZmlsZQ%3D%3D?line=39'>40</a>\u001b[0m grafico\u001b[39m.\u001b[39mset_categories(categorias_grafico)\n\u001b[1;32m---> <a href='vscode-notebook-cell:/c%3A/Users/Santiago/OneDrive/Escritorio/Python/Percentiles%20indice.ipynb#X32sZmlsZQ%3D%3D?line=40'>41</a>\u001b[0m grafico_chart \u001b[39m=\u001b[39m grafico\u001b[39m.\u001b[39;49mto_sheet(ws_grafico, start\u001b[39m=\u001b[39m\u001b[39m\"\u001b[39m\u001b[39mA1\u001b[39m\u001b[39m\"\u001b[39m)\n\u001b[0;32m     <a href='vscode-notebook-cell:/c%3A/Users/Santiago/OneDrive/Escritorio/Python/Percentiles%20indice.ipynb#X32sZmlsZQ%3D%3D?line=41'>42</a>\u001b[0m grafico_chart\u001b[39m.\u001b[39mtitle \u001b[39m=\u001b[39m \u001b[39m\"\u001b[39m\u001b[39mGráfico de barras\u001b[39m\u001b[39m\"\u001b[39m\n\u001b[0;32m     <a href='vscode-notebook-cell:/c%3A/Users/Santiago/OneDrive/Escritorio/Python/Percentiles%20indice.ipynb#X32sZmlsZQ%3D%3D?line=43'>44</a>\u001b[0m \u001b[39m# Crear una nueva hoja para el gráfico\u001b[39;00m\n",
      "\u001b[1;31mAttributeError\u001b[0m: 'BarChart' object has no attribute 'to_sheet'"
     ]
    }
   ],
   "source": [
    "import pandas as pd\n",
    "from openpyxl import Workbook\n",
    "from openpyxl.utils.dataframe import dataframe_to_rows\n",
    "from openpyxl.drawing.image import Image\n",
    "from openpyxl.chart import BarChart, Reference\n",
    "from openpyxl.worksheet.table import Table\n",
    "\n",
    "# Crear un nuevo libro de Excel\n",
    "wb = Workbook()\n",
    "\n",
    "# Crear una hoja para los datos\n",
    "ws = wb.active\n",
    "ws.title = 'Datos'\n",
    "\n",
    "# Insertar los datos de df en la hoja\n",
    "for row in dataframe_to_rows(df, index=False, header=True):\n",
    "    ws.append(row)\n",
    "\n",
    "# Insertar los datos de df_percentiles en la hoja\n",
    "for row in dataframe_to_rows(df_percentiles, index=False, header=True):\n",
    "    ws.append(row)\n",
    "\n",
    "# Insertar los datos de Umbrales_sepal en la hoja\n",
    "for row in dataframe_to_rows(Umbrales_sepal, index=False, header=True):\n",
    "    ws.append(row)\n",
    "\n",
    "# Crear una tabla a partir de los datos en la hoja\n",
    "tabla_rango = f'A1:{chr(ord(\"A\") + len(Umbrales_sepal.columns) - 1)}{ws.max_row}'\n",
    "tabla = Table(displayName='Tabla1', ref=tabla_rango)\n",
    "ws.add_table(tabla)\n",
    "\n",
    "# Crear un gráfico de barras a partir de los datos de la tabla\n",
    "grafico = BarChart()\n",
    "grafico.title = \"Gráfico de barras\"\n",
    "grafico.x_axis.title = \"Col1\"\n",
    "grafico.y_axis.title = \"Col2\"\n",
    "datos_grafico = Reference(ws, min_col=2, min_row=2, max_col=2, max_row=ws.max_row)\n",
    "categorias_grafico = Reference(ws, min_col=1, min_row=2, max_row=ws.max_row)\n",
    "grafico.add_data(datos_grafico, titles_from_data=True)\n",
    "grafico.set_categories(categorias_grafico)\n",
    "grafico_chart = grafico.to_sheet(ws_grafico, start=\"A1\")\n",
    "grafico_chart.title = \"Gráfico de barras\"\n",
    "\n",
    "# Crear una nueva hoja para el gráfico\n",
    "ws_grafico = wb.create_sheet(title='Gráfico')\n",
    "\n",
    "# Guardar el archivo de Excel\n",
    "wb.save('C:\\\\Users\\\\Santiago\\\\OneDrive\\\\Escritorio\\\\Python\\\\nuevo_excel.xlsx')\n",
    "\n"
   ]
  }
 ],
 "metadata": {
  "kernelspec": {
   "display_name": "Python 3",
   "language": "python",
   "name": "python3"
  },
  "language_info": {
   "codemirror_mode": {
    "name": "ipython",
    "version": 3
   },
   "file_extension": ".py",
   "mimetype": "text/x-python",
   "name": "python",
   "nbconvert_exporter": "python",
   "pygments_lexer": "ipython3",
   "version": "3.9.12"
  },
  "orig_nbformat": 4
 },
 "nbformat": 4,
 "nbformat_minor": 2
}
